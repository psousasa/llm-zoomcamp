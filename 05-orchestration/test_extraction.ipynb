{
 "cells": [
  {
   "cell_type": "code",
   "execution_count": 1,
   "metadata": {},
   "outputs": [],
   "source": [
    "from elasticsearch import Elasticsearch"
   ]
  },
  {
   "cell_type": "code",
   "execution_count": 3,
   "metadata": {},
   "outputs": [],
   "source": [
    "es_client = Elasticsearch(\"http://localhost:9200\")"
   ]
  },
  {
   "cell_type": "code",
   "execution_count": 4,
   "metadata": {},
   "outputs": [],
   "source": [
    "search_query = {\n",
    "  \"query\": {\n",
    "    \"match\": {\n",
    "      \"question\": {\n",
    "        \"query\": \"When is the next cohort?\",\n",
    "        \"fuzziness\": \"AUTO\"\n",
    "      }\n",
    "    }\n",
    "  }\n",
    "}"
   ]
  },
  {
   "cell_type": "code",
   "execution_count": 7,
   "metadata": {},
   "outputs": [],
   "source": [
    "index_name = \"documents_20240820_4538\"\n",
    "response = es_client.search(index=index_name, body=search_query)\n"
   ]
  },
  {
   "cell_type": "code",
   "execution_count": 8,
   "metadata": {},
   "outputs": [
    {
     "name": "stdout",
     "output_type": "stream",
     "text": [
      "Top matching document ID: bf024675\n"
     ]
    }
   ],
   "source": [
    "if response['hits']['total']['value'] > 0:\n",
    "    top_hit = response['hits']['hits'][0]\n",
    "    document_id = top_hit['_source']['document_id']\n",
    "    print(f\"Top matching document ID: {document_id}\")\n",
    "else:\n",
    "    print(\"No matching documents found.\")"
   ]
  }
 ],
 "metadata": {
  "interpreter": {
   "hash": "70b6eae59083c1b8d0b1845274e89e1b52ac4a51032b13abcc6fd2687bc91e06"
  },
  "kernelspec": {
   "display_name": "Python 3.10.12 ('llm-zoomcamp-1OA7P9Z8-py3.10')",
   "language": "python",
   "name": "python3"
  },
  "language_info": {
   "codemirror_mode": {
    "name": "ipython",
    "version": 3
   },
   "file_extension": ".py",
   "mimetype": "text/x-python",
   "name": "python",
   "nbconvert_exporter": "python",
   "pygments_lexer": "ipython3",
   "version": "3.10.12"
  },
  "orig_nbformat": 4
 },
 "nbformat": 4,
 "nbformat_minor": 2
}
